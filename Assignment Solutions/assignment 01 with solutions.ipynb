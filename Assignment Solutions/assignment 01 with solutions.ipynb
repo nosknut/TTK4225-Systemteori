{
 "cells": [
  {
   "cell_type": "markdown",
   "id": "5058f580-3a35-41ed-94c1-17576e75c802",
   "metadata": {
    "tags": []
   },
   "source": [
    "# TTK4225 Assignment 1"
   ]
  },
  {
   "cell_type": "markdown",
   "id": "359bbbd4",
   "metadata": {},
   "source": [
    "### Note\n",
    "\n",
    "Some of the points below may be either solved by pen and paper, or -- for who feels brave but also learn something that will be very useful in your theses -- via symbolic computing (e.g., sympy: https://docs.sympy.org/latest/tutorials/intro-tutorial/solvers.html).\n",
    "\n",
    "The most important thing in this assignment is to understand the logics behind each procedural step you take. Thus for the teachers it does not matter which way you choose, the important is that you understand what you do."
   ]
  },
  {
   "cell_type": "markdown",
   "id": "444b6feb",
   "metadata": {},
   "source": [
    "### Introduction\n",
    "\n",
    "Consider the following three systems,\n",
    "- [mass-spring](https://en.wikipedia.org/wiki/Mass-spring-damper_model),\n",
    "- [Lotka Volterra](https://en.wikipedia.org/wiki/Lotka%E2%80%93Volterra_equations), and\n",
    "- [Van der Pol oscillator](https://en.wikipedia.org/wiki/Van_der_Pol_oscillator),\n",
    "\n",
    "defined through their ODEs as in the links above. In the remainder of the assignment we will analyse them analytically, so to gain intuitions about their properties."
   ]
  },
  {
   "cell_type": "markdown",
   "id": "b6098d37-5ac9-4c02-bc03-de336865a3cc",
   "metadata": {},
   "source": [
    "### Question 1\n",
    "\n",
    "Compute the equilibria of each of these systems as functions of the parameters of their models.\n",
    "\n",
    "* If you are solving this point via pen and paper, then write the procedure you followed to compute the solution in the cell below, using it as a ```markdown``` cell, and the solution itself.\n",
    "* If you are solving this point via symbolic computing, then use the cell below as a ```code``` cell to write the code that computes the solution."
   ]
  },
  {
   "cell_type": "markdown",
   "id": "54555f13",
   "metadata": {},
   "source": [
    "### Solution\n",
    "\n",
    "\n",
    "#### Van der pol:\n",
    "\n",
    "System equation:\n",
    "dx1 = x2\n",
    "dx2 = mu (1 - x1^2)*x2 - x1\n",
    "\n",
    "Find equilibria\n",
    "dx1 = 0: x2 = 0\n",
    "dx2 at x2 = 0: mu (1 - x1^2) * 0 - x1 = -x1 -> x1 = 0\n",
    "\n",
    "Equilibrium: x = [0, 0]\n",
    "\n",
    "\n",
    "#### Mass-spring-damper system: \n",
    "m * a = -c*v -k*p \n",
    "\n",
    "x: position / p\n",
    "v: velocity / dp\n",
    "a: axelleration / dv / ddp\n",
    "\n",
    "Rewriting the equation in first order 2 dimentional statespace form based on: x1 = p, x2 = v = dx1\n",
    "\n",
    "dx1 = x2\n",
    "dx2 = -k/m * x1 - c/m * x2\n",
    "\n",
    "dx1 = 0 -> x2 = 0\n",
    "dx2 = 0 -> -k/m * x1 = 0\n",
    "With positive and finite system paramteres, x1 = 0\n",
    "\n",
    "Equilibrium: x = [0, 0]\n",
    "\n",
    "\n",
    "#### Lotka Volterra:\n",
    "\n",
    "dx1 = a*x1 - b*x1*x2\n",
    "dx2 = -c*x2 + d*x1*x2\n",
    "\n",
    "Rewritten:\n",
    "\n",
    "dx1 = x1 * (a - b*x2)\n",
    "dx2 = x2 * (d*x1 - c)\n",
    "\n",
    "Equilibria 1: \n",
    "x'1 = [0, 0]\n",
    "\n",
    "Equilibria 2: \n",
    "\n",
    "(a - b*x2) = 0 -> x2 = a/b\n",
    "(d*x1 - c) = 0 -> x1 = c/d\n",
    "\n",
    "x'2 = [a/b, c/d]\n"
   ]
  },
  {
   "cell_type": "markdown",
   "id": "7ddeadac-614e-464c-b197-c0f0c3c99dfa",
   "metadata": {},
   "source": [
    "### Question 2\n",
    "\n",
    "Using the cell below as a ```markdown``` cell, describe which of these equilibria are simply stable, asymptotically stable, or unstable (note: simply stable is a synonym for marginally stable). Say also why you believe so.\n",
    "\n",
    "The fastest way to solve this is likely googling \"phase portrait of system XXX\", taking a look at the plots you get, thinking at what these plots mean and imply, and then describe such basins."
   ]
  },
  {
   "cell_type": "markdown",
   "id": "f837ce4f",
   "metadata": {},
   "source": [
    "### Solution\n",
    "\n",
    "\n",
    "#### Van Der Pol:\n",
    "\n",
    "This system makes any initial condition apart from the equilibrium in [0, 0] converge towards a shared cyclical trajectory called a limit cycle.\n",
    "That would mean any point infinitely close to the equilibrium would have to diverge from it in order to reach the limit cycle. It is then easy to deduce that this equilibrium is unstable.\n",
    "\n",
    "\n",
    "#### Mass-spring-damper:\n",
    "\n",
    "This system is modelled after a real world mechanical system where energy is lost over time. The equilibrium in [0, 0] is therefore stable as the lowest energetic state of the system. We can also conclude that it is asymptotically stable, as a small nudge from the equilibrium would result in the state returning to [0, 0]\n",
    "\n",
    "Note: \n",
    "If we removed any dampening in the system, any oscillation would last indefinitely. This would not move the equilibrium, but it would make the stability of it marginally stable instead of asymptotically stable. This is because any small nudge from [0, 0] would not lead to divergence from the centerpoint, but we would also not see the state return back to [0, 0] ever.\n",
    "Adding back the dampening, but removing the spring, we now have a system discribing a block sliding along the floor (basically). We can now see that in order for the block to lie still, x2 must be 0, but x1 can be whatever as it does not matter where the block is for it to lie still. Such a system would yield infinite equilibria along the x1 axis. All of these equilibria would then only be marginally stable, as if you were to nudge the block along the x1-axis, it would happily just stay wherever you put it. Therefore not returning, therefore not granting asymptotical stability to any of the equilibria.\n",
    "\n",
    "\n",
    "#### Lotka-volterra:\n",
    "\n",
    "In this system, we see sustained oscillations around a focus point in x'2 = [a/b, c/d]. These cycles are not to be confused with limit cycles, as there is no convergence towards a single cycle or set of cycles. While the van-der-pol oscillator had an unstable focus, we dont' see the same here. Were you to nudge the system away from x'2, it would not diverge, but rather stay very close to x'2 and oscillate around there forever. I'm sure you're getting where we're going with this. x'2 is marginally stable. \n",
    "\n",
    "That was not the only equilibrium we found in this system. As for x'1 = [0, 0], we know that any amount of predators without prey will go extinct. We also know that any amount of prey will reproduce exponentially without the presence of predators. Intuition would you lead you to think this yields a sort of half-stability since the equilibrium seems to inherit properties of both a stable and unstable point.\n",
    "This thought must be challenged, and the equilibrium can be thought of as balancing on a tight rope. Were you to only move straight forward, the ground is effectively flat and you can't possibly fall off. But were you to move any other direction, you don't make it far before you walk off. Stability is therefore the absolute absence of instability. With this in mind, we conclude that x'1 = [0, 0] is unstable. \n",
    "\n",
    "Note:\n",
    "Were you given the task of keeping a ball inside a bowl, you'd have an easy time. The ball rests in the middle of the bowl, and any other point in the bowl takes the ball to the middle. Now, were you cut a slice in the bowl going from the edge to the center, you'd still have the bowl, and if the ball inside it is big enough, you have nothing to worry about. However, given the slice through the bowl is infinitely thin and the ball is infinitely small, the task of keeping the ball inside the bowl gets almost impossible. This analogy can be a bit weird, but it helps develop the understanding that if any trajectory from an equilibrium diverges from it, then the equilibrium is unstable. Any nudge in any direction from the equilibrium must have the state come back in order to deem the point stable to begin with.\n"
   ]
  },
  {
   "cell_type": "markdown",
   "id": "696b9481-6ba2-4db4-a9d0-ce4967e95263",
   "metadata": {},
   "source": [
    "### Question 3\n",
    "\n",
    "As for the asymptotically stable equilibria, describe their basin of attraction (i.e., which zone of the phase portrait is so that starting from a generic initial condition in that zone makes the system follow a trajectory that converges as time goes to infinity to that equilibrium).\n",
    "\n",
    "Write your answer using the cell below as a ```markdown``` cell.\n",
    "\n",
    "The fastest way to solve this is likely googling \"phase portrait of system XXX\", taking a look at the plots you get, thinking at what these plots mean and imply, and then describe such basins."
   ]
  },
  {
   "cell_type": "markdown",
   "id": "8cd54e93",
   "metadata": {},
   "source": [
    "### Solution\n",
    "\n",
    "Basin of attraction is the set of all starting points that end up in an equilibrium. This can be difficult to work out, but for some stable points, it is trivial. \n",
    "\n",
    "For the SMD (mass-spring-damper) system, we found that there exists only one equilibrium and that it is asymptotically stable. If this is true for an LTI (linear and time invariant) system, we know that every point in the state space must converge to the one equilibrium. The basin of attraction is therefore all of R^2.\n",
    "\n",
    "Note: Consider the reverse van der pol system, meaning we dx1 and dx2 are negative instead of positive.\n",
    "\n",
    "$$\n",
    "\\left\\lbrace\n",
    "\\begin{array}{ll}\n",
    "\\dot{x}_1 &= - x_2 \\\\\n",
    "\\dot{x}_2 &= - \\mu (1 - x_1^2) x_2 + x_1\n",
    "\\end{array}\n",
    "\\right.\n",
    "$$\n",
    "\n",
    "Intuition should tell us that this still only has one equilibrium and it is in fact asymptotically stable. So a single equilibrium and it is asymptotically stable. Is the basin of attraction the same as with the SMD system? You might be inclined to think that it is, but considering we're asking the question, you're likely thinking it isn't. \n",
    "\n",
    "The equilibrium in the center of the reversed van der pol system has a basin of attraction consisting of all points within its limit cycle. All points on the outside will fall further and further away and will never see them return. This is why the basin of attraction is a whole lot more complicated for non linear systems.\n",
    "\n"
   ]
  },
  {
   "cell_type": "markdown",
   "id": "752dcd10-8e27-42fc-afbe-3d1ce0cfbc5b",
   "metadata": {},
   "source": [
    "### Question 4\n",
    "\n",
    "Think at which physical system has both an **asymptotically** stable equilibrium and an unstable one. Describe such a system, and explain the intuitions you have that make you say that the equilibria have that stability properties.\n",
    "\n",
    "Write your answer using the cell below as a ```markdown``` cell."
   ]
  },
  {
   "cell_type": "markdown",
   "id": "8aab4c1b",
   "metadata": {},
   "source": [
    "### Solution\n",
    "\n",
    "Consider a pendulum. In its upward position, the forces are in equilibrium, and the pendulum stands still. But with any nudge, the pendulum will fall, swinging back and forth, losing its energy to the friction and air resistance forces before eventually ending up at its lowest point for all future time. One equilibrium at the top which is unstable, and one at the bottom which is asymptotically stable. "
   ]
  },
  {
   "cell_type": "markdown",
   "id": "199c4f13-31ac-470e-95d6-b1a53b65804f",
   "metadata": {},
   "source": [
    "### Question 5\n",
    "\n",
    "How would you modify the system in Question 4 so to make the asymptotically stable equilibrium only simply stable? (Note: simply stable is a synonym for marginally stable).\n",
    "\n",
    "Write your answer using the cell below as a ```markdown``` cell."
   ]
  },
  {
   "cell_type": "markdown",
   "id": "d584868d",
   "metadata": {},
   "source": [
    "### Solution\n",
    "\n",
    "As stated in the previous task, the system loses energy due to resistance forces acting upon the pendulum. Were those forces removed, the pendulum would not lose energy and would oscillate in eternity. The stability properties then change a bit since a nudge from the lower equilibrium won't see the state return to that point ever. \n",
    "\n",
    "Remember, in the state space, a point consists of a combination of angle and angular momentum. So while the pendulum will swing by the low point, it won't do so with 0 speed, and will therefore not go back to the same point in the state space.  \n",
    "\n",
    "The stability of the low point is therefore no longer asymptotic, but marginal (or simply stable if you prefer that term instead)."
   ]
  },
  {
   "cell_type": "markdown",
   "id": "e764168e-bf79-481d-bfa4-44d6e90f4a8e",
   "metadata": {},
   "source": [
    "### Question 6\n",
    "\n",
    "Use the cell below as a ```markdown``` cell to describe how model predictive control works from intuitive perspectives."
   ]
  },
  {
   "cell_type": "markdown",
   "id": "ccdf47cd",
   "metadata": {},
   "source": [
    "### Solution\n",
    "\n",
    "Model predictive control is perfectionists approach to control, aiming for increased efficiency and precition from having a detailed and accurate model of the system. In essence, if you know the model completely and accurately, you can see how all inputs to the system affects its behavior. From there, you're able to pick the one that best corresponds with how you want the system to behave. \n",
    "\n",
    "Another approach is to change the system equation (by introducing feedback for example) by adding some dynamic element. Knowing the model and how the new addition affects it allows you to tailor the system and decide on its behavior to some degree. Usually to such a degree that you can move its natural equilibria and change the stability properties of them. Thereby giving you close to full control of the system."
   ]
  },
  {
   "cell_type": "markdown",
   "id": "34ebc175-293d-461c-a186-47aef03f3535",
   "metadata": {},
   "source": [
    "### Question 7\n",
    "\n",
    "Use the cell below as a ```markdown``` cell to describe what you think the goal of this course is."
   ]
  },
  {
   "cell_type": "markdown",
   "id": "8fed1a18",
   "metadata": {},
   "source": [
    "### Solution\n",
    "\n",
    "All control and automation going forward is going to rely on one or more of the core topics of this course. An engineer with an intuitive understanding of these topics will be far better equipped to dealing with complicated system analysis and control system design. Your goal as a student should be on asking the right questions and to challenge your understanding. Little by little, pieces will start falling into the right places, and everything (or at least almost everything) you've previously learned will feel connected as well as most of what you'll leard going forward."
   ]
  }
 ],
 "metadata": {
  "kernelspec": {
   "display_name": "Python 3 (ipykernel)",
   "language": "python",
   "name": "python3"
  },
  "language_info": {
   "codemirror_mode": {
    "name": "ipython",
    "version": 3
   },
   "file_extension": ".py",
   "mimetype": "text/x-python",
   "name": "python",
   "nbconvert_exporter": "python",
   "pygments_lexer": "ipython3",
   "version": "3.9.12"
  }
 },
 "nbformat": 4,
 "nbformat_minor": 5
}

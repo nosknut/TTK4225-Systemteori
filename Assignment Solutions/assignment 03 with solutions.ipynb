{
 "cells": [
  {
   "cell_type": "markdown",
   "id": "b958b721",
   "metadata": {},
   "source": [
    "# TTK4225 Assignment 3"
   ]
  },
  {
   "cell_type": "markdown",
   "id": "c4296e6e",
   "metadata": {},
   "source": [
    "### Question 1\n",
    "\n",
    "After a nice evening in samfundet, you and your friend Tontolonius got a brilliant idea about how to build a new type of discombobulator, a gadget for the next iPhone 54, that will make you both ultra rich.\n",
    "\n",
    "The first step is though to model its input output behavior, and while walking to Omega verksted to buy the stuff for building the discombobulator your friend says:\n",
    "\n",
    "*I think I understood how it will behave - it has to be a linear time-invariant homeogeneous first order partial differential equation. The process shall moreover have a constant forcing term of value 2 from time $t = 0$ on. If we say that $\\mu(\\cdot)$ is the step function, i.e., $\\mu(t - \\tau) = 0$ for $t < \\tau$ and 1 otherwise, then the model we are looking for has to be*\n",
    "\n",
    "$$\n",
    "\\ddot{y} = - \\dot{y} t^2 + 2 \\sqrt{y} + 2 \\mu(t - 1) .\n",
    "$$\n",
    "\n",
    "You are though a bit suspicious that Tontolonius drank a couple of beers more than enough, and fear the sentence above comes with some mistakes.\n",
    "\n",
    "Write in the cell below, using it as a ```markdown``` cell, all the things are wrong in the sentence in italics assuming the ODE above is actually the correct one."
   ]
  },
  {
   "cell_type": "markdown",
   "id": "720c4076",
   "metadata": {},
   "source": [
    "### Solution:\n",
    "\n",
    "There are obviously a few incorrect statements made about the system equation: \n",
    "\n",
    "The system:\n",
    "\n",
    "* is not linear, as $\\sqrt{y}$ isn't linear. $t^2$ is permitted in a linear equation as $t$ is neither a state nor measurement.\n",
    "\n",
    "* is not time-invariant, as for different values of $t$ the equation admits different values.\n",
    "\n",
    "* is not homogenous, as there is as forcing term after $t=1$.\n",
    "\n",
    "* is not of the first order, as we have $\\ddot{y}$ implying a second order.\n",
    "\n",
    "* does not have a forcing term from $t=0$, but rather form $t=1$."
   ]
  },
  {
   "cell_type": "markdown",
   "id": "048a8071",
   "metadata": {},
   "source": [
    "### Question 2\n",
    "\n",
    "Now you just finished building the discombombulator, and want to characterize it. You start running an experiment, give it a Dirac delta (i.e., an impulse) as an imput, and get the following response:\n",
    "\n",
    "<img src=\"assig3a.png\" alt=\"response\" width=\"600\"/>\n",
    "\n",
    "Looking at the response, Tontolonius says \"We can obviously model this as a first order scalar system\". Is this the case? Why / Why not?\n",
    "\n",
    "Write your thoughts in the cell below, using it as a ```markdown``` cell."
   ]
  },
  {
   "cell_type": "markdown",
   "id": "ea418083",
   "metadata": {},
   "source": [
    "### Solution:\n",
    "\n",
    "In the impluse response, we clearly see oscillations. This is the result of either a second order scalar system or a first order vector system with minimum 2 states. \n",
    "\n",
    "And why can't this be a first order scalar system?\n",
    "\n",
    "Well, in that case, starting from the same point will lead to the same trajectory every time. So for $x = 0$, the trajectory is identical every time. \n",
    "\n",
    "In the impulse response, we see the state pass through 0 multiple times causing different following peaks. \n",
    "\n",
    "So in a sense, for oscillations to occur, we need the system to keep momentum. To pass through 0 and keep going as result of the built up speed. For that we need to introduce a second state, namely the speed (or velocity technically if we're being precise and i guess we are)."
   ]
  },
  {
   "cell_type": "markdown",
   "id": "dbe0242c",
   "metadata": {},
   "source": [
    "### Question 3\n",
    "\n",
    "You both want to understand if the discombombulator is fast enough in responding to iPhone 54 users' inputs.\n",
    "\n",
    "How would you determine the time constant of the discombombulator starting from the impulse response above? And would you say it is 'X' seconds, if you were given only the graph above and no other information?\n",
    "\n",
    "Write your thoughts in the cell below, using it as a ```markdown``` cell."
   ]
  },
  {
   "cell_type": "markdown",
   "id": "df3b7ef6",
   "metadata": {},
   "source": [
    "### Solution:\n",
    "\n",
    "The impulse response throuhg time can be written as h(t) = cos(w*t) * e ^ (-a*t)\n",
    "\n",
    "By looking at the exponential term, we see that the time constant is 1/a.\n",
    "\n",
    "\n",
    "If that was not immediately clear, here is an explaination:\n",
    "The oscillations have a dampening factor e^(-a*t) which at the time t = T, where T is the time constant, the dampening factor becomes e^(-a*T) = e^(a/a) = e^-1\n",
    "From that, we can find the time constant by finding when the impluse response is h(0) * e^-1 or h(0)/e.\n",
    "This approximates to finding when the impluse response is 63% of the way from its initial condition to its final stationary value."
   ]
  },
  {
   "cell_type": "markdown",
   "id": "524d1dae",
   "metadata": {},
   "source": [
    "### Question 4\n",
    "\n",
    "You also fear the discombombulator may not be so innovative after all, after you notice that the impulse response seems oddly familiar.\n",
    "\n",
    "Which examples of physical systems may produce such an impulse response? And how would changing their parameters change this response?\n",
    "\n",
    "Write your thoughts in the cell below, using it as a ```markdown``` cell."
   ]
  },
  {
   "cell_type": "markdown",
   "id": "b3ed2a67",
   "metadata": {},
   "source": [
    "### Solution:\n",
    "\n",
    "There are two classic systems that have this impulse response.\n",
    "\n",
    "The spring-mass-damper system.\n",
    "The RLC electrical circuit. \n",
    "\n",
    "\n",
    "These oscillations can also remind us of a pendulum swinging, but as the dampening factor is exponential\n",
    "on the form e^-at, it must be from a linear system. Therefore not the result of a pendulum, as that is non-linear.\n"
   ]
  },
  {
   "cell_type": "markdown",
   "id": "c3626f38",
   "metadata": {},
   "source": [
    "### Question 5\n",
    "\n",
    "Arrgh! Tontolonius forgot to plug all the cables in... You need to perform the test again, you after doing it you get a slightly more complicated impulse response.\n",
    "\n",
    "<img src=\"assig3b.png\" alt=\"response\" width=\"600\"/>\n",
    "\n",
    "What is the lowest possible order of a system that has an impulse response as this one? Can you tell which components that make up the impulse response $h(t)$? (hint: try to decompose it as a $h(t) = h_1(t) + h_2(t)$)\n",
    "\n",
    "Write your thoughts in the cell below, using it as a ```markdown``` cell."
   ]
  },
  {
   "cell_type": "markdown",
   "id": "f31af2f7",
   "metadata": {},
   "source": [
    "### Solution:\n",
    "\n",
    "We know we can create an oscillating impulse response with a second order scalar system, but those oscillations swing about the time axis. The axis of this $h(t)$ is ever changing. \n",
    "\n",
    "We can express $h(t)$ as\n",
    "$$\n",
    "h(t) = e^{-a_1 t} + \\cos(wt) e^{-a_2 t} .\n",
    "$$\n",
    "\n",
    "The impulse response is a combination of a first and second order system. When transforming the impulse response in from the time domain to the laplace domain, we can express the system with three poles: two that are complex conjugate (the oscillating part) and one single negative real pole (the pure damping part)."
   ]
  },
  {
   "cell_type": "markdown",
   "id": "0d0f5fbd",
   "metadata": {},
   "source": [
    "### Question 6\n",
    "\n",
    "Eventually you think that the discombombulator is too complex as it is thought right now, and decide to make a new version of it.\n",
    "\n",
    "You also understand that this simplified version follows the dynamics of a cart with mass $m = 1$ kg, speed $x(t)$, a generic initial condition $x_{0} = x(0)$, is affected by a friction $F_{f}(t) = -f x(t)$, and subject to an external commandable force $u(t) = F(t)$.\n",
    "\n",
    "Derive a model that describes the dynamics of such a system. If you are solving this point via pen and paper, then write the procedure you followed to compute the solution in the cell below, using it as a ```markdown``` cell, and the solution itself. Otherwise write down the derivations directly below."
   ]
  },
  {
   "cell_type": "markdown",
   "id": "53c8bb6a",
   "metadata": {},
   "source": [
    "### Solution:\n",
    "\n",
    "We can model the system using Newton's laws, and thus state:\n",
    "\n",
    "$$m a = F + F_f$$\n",
    "\n",
    "$$m \\frac{dx}{dt} = -f x + u$$\n",
    "\n",
    "In a first order scalar form, this becomes:\n",
    "\n",
    "$$\\frac{dx}{dt} = -\\frac{f}{m} x + \\frac{1}{m} u$$\n",
    "\n",
    "which in the case of $m = 1$ becomes:\n",
    "\n",
    "$$\\frac{dx}{dt} = -f x + u$$\n"
   ]
  },
  {
   "cell_type": "markdown",
   "id": "21b229b9",
   "metadata": {},
   "source": [
    "### Question 7\n",
    "\n",
    "Assuming F(t) = 0, how may one compute the trajectory of such a system? What is the name of the corresponding evolution? And what is the corresponding solution in this case?\n",
    "\n",
    "Write your thoughts in the cell below, using it as a ```markdown``` cell."
   ]
  },
  {
   "cell_type": "markdown",
   "id": "b996a1df",
   "metadata": {},
   "source": [
    "### Solution:\n",
    "\n",
    "With no external acting force, the trajectory becomes the free evolution of the system.\n",
    "\n",
    "We therefore need to find a $x(t)$ that satisfies two conditions.\n",
    "\n",
    "Condition 1: $x(t)$ must fit the system equation. This means\n",
    "\n",
    "$$\n",
    "\\frac{dx(t)}{dt} = \\frac{-f}{m} x(t)\n",
    "$$\n",
    "\n",
    "Condition 2: $x(t=0) = x(0)$. The initial value of $x(t)$ must be equal to the initial condition of the system.\n",
    "\n",
    "The general solution that satisfies both conditions is $x(t) = x(0) e^{-\\frac{f}{m} t}$."
   ]
  },
  {
   "cell_type": "markdown",
   "id": "ca967a61",
   "metadata": {},
   "source": [
    "### Question 8\n",
    "\n",
    "Write in the cell below a script that\n",
    "\n",
    "* solves the dynamics of the system above for generic inputs $u(t)$, and\n",
    "* plots the solution $x(t)$ for the specific case $f = 2$, $x_{0} = 10$, and $u(t) = 0$ for $t < 3$, $u(t) = 1$ for $t \\ge 3$."
   ]
  },
  {
   "cell_type": "code",
   "execution_count": 2,
   "id": "7000f099",
   "metadata": {},
   "outputs": [
    {
     "data": {
      "image/png": "[encoded data removed]",
      "text/plain": [
       "<Figure size 432x288 with 1 Axes>"
      ]
     },
     "metadata": {
      "needs_background": "light"
     },
     "output_type": "display_data"
    }
   ],
   "source": [
    "import numpy as np\n",
    "from scipy.integrate import odeint\n",
    "\n",
    "# Define the system parameters\n",
    "f = 2.0\n",
    "m = 1.0\n",
    "\n",
    "# Define the input function u(t)\n",
    "def u(t):\n",
    "    return 1.0 if t >= 3.0 else 0.0\n",
    "\n",
    "# Define the system of ODEs\n",
    "def model(x, t):\n",
    "    dxdt = (-m / f) * x + (1 / m) * u(t)\n",
    "    return dxdt\n",
    "\n",
    "# Initial condition\n",
    "x0 = 10.0\n",
    "\n",
    "# Time points for simulation\n",
    "t = np.linspace(0, 10, 100)  # Adjust the time range as needed\n",
    "\n",
    "# Solve the ODEs\n",
    "x = odeint(model, x0, t)\n",
    "\n",
    "# Plot the results (you can use matplotlib for this)\n",
    "import matplotlib.pyplot as plt\n",
    "\n",
    "plt.plot(t, x)\n",
    "plt.xlabel('Time')\n",
    "plt.ylabel('x(t)')\n",
    "plt.title('System Trajectory with u(t)')\n",
    "plt.grid(True)\n",
    "plt.show()\n"
   ]
  }
 ],
 "metadata": {
  "kernelspec": {
   "display_name": "Python 3 (ipykernel)",
   "language": "python",
   "name": "python3"
  },
  "language_info": {
   "codemirror_mode": {
    "name": "ipython",
    "version": 3
   },
   "file_extension": ".py",
   "mimetype": "text/x-python",
   "name": "python",
   "nbconvert_exporter": "python",
   "pygments_lexer": "ipython3",
   "version": "3.9.12"
  }
 },
 "nbformat": 4,
 "nbformat_minor": 5
}

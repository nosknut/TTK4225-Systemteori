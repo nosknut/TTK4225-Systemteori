{
 "cells": [
  {
   "cell_type": "code",
   "execution_count": 1,
   "metadata": {},
   "outputs": [
    {
     "data": {
      "image/png": "[encoded data removed]",
      "text/plain": [
       "<Figure size 432x288 with 1 Axes>"
      ]
     },
     "metadata": {
      "needs_background": "light"
     },
     "output_type": "display_data"
    }
   ],
   "source": [
    "# load the necessary packages\n",
    "import numpy as np\n",
    "from scipy.integrate import odeint\n",
    "import matplotlib.pyplot as plt\n",
    "\n",
    "# define the function that returns dz/dt\n",
    "def myModel(y, t):\n",
    "    #\n",
    "    # controller\n",
    "    kappa = -5\n",
    "    u = kappa * y\n",
    "    #\n",
    "    # physical parameters\n",
    "    a = 0.381\n",
    "    b = 0.112\n",
    "    #\n",
    "    # actual ODE\n",
    "    dydt = a * y + b * u\n",
    "    #\n",
    "    return dydt\n",
    "\n",
    "# define the initial condition\n",
    "y0 = 2\n",
    "\n",
    "# define the time points where the solution is computed\n",
    "n    = 100\n",
    "tmax = 20\n",
    "t    = np.linspace(0, tmax, n)\n",
    "\n",
    "# solve the ODE\n",
    "y = odeint(myModel, y0, t)\n",
    "\n",
    "# plot the time evolution\n",
    "plt.subplot(1,2,1)\n",
    "plt.plot(t, y, label='y(t)', linewidth=1)\n",
    "plt.grid()\n",
    "plt.xlabel('time evolution')\n",
    "\n",
    "plt.show()\n",
    "\n"
   ]
  },
  {
   "cell_type": "code",
   "execution_count": null,
   "metadata": {},
   "outputs": [],
   "source": []
  }
 ],
 "metadata": {
  "kernelspec": {
   "display_name": "Python 3",
   "language": "python",
   "name": "python3"
  },
  "language_info": {
   "codemirror_mode": {
    "name": "ipython",
    "version": 3
   },
   "file_extension": ".py",
   "mimetype": "text/x-python",
   "name": "python",
   "nbconvert_exporter": "python",
   "pygments_lexer": "ipython3",
   "version": "3.9.6"
  }
 },
 "nbformat": 4,
 "nbformat_minor": 4
}

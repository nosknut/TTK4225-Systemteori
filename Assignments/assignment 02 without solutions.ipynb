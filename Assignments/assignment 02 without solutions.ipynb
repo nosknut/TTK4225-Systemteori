{
 "cells": [
  {
   "cell_type": "markdown",
   "id": "b7c2da47",
   "metadata": {},
   "source": [
    "# TTK4225 Assignment 2"
   ]
  },
  {
   "cell_type": "markdown",
   "id": "9ae54ed4",
   "metadata": {},
   "source": [
    "### Note\n",
    "\n",
    "Some of the points below may be either solved by pen and paper, or -- for who feels brave but also learn something that will be very useful in your theses -- via symbolic computing (e.g., sympy: https://docs.sympy.org/latest/tutorials/intro-tutorial/solvers.html).\n",
    "\n",
    "The most important thing in this assignment is to understand the logics behind each procedural step you take. Thus for the teachers it does not matter which way you choose, the important is that you understand what you do."
   ]
  },
  {
   "cell_type": "markdown",
   "id": "20a461f1",
   "metadata": {},
   "source": [
    "### Introduction\n",
    "\n",
    "Consider a Lotka Volterra system with inputs, i.e., a system defined by:\n",
    "- the state variables $y_{prey}$ (preys) and $y_{pred}$ (predators),\n",
    "- the inputs $u_{prey}$ (human intervention on the preys population) and $u_{pred}$ (human intervention on the predators population),\n",
    "- the dynamics\n",
    "$$\n",
    "    \\biggl \\{\n",
    "        \\begin{align}\n",
    "            \\dot{y}_{prey} &= \\alpha y_{prey} - \\beta y_{prey} y_{pred} - u_{prey} \\\\\n",
    "            \\dot{y}_{pred} &= - \\gamma y_{pred} + \\delta y_{prey} y_{pred} - u_{pred}\n",
    "        \\end{align}\n",
    "$$"
   ]
  },
  {
   "cell_type": "markdown",
   "id": "ae1fffac",
   "metadata": {},
   "source": [
    "### Question 1\n",
    "\n",
    "Observing these two species of animals in the forests, you note that when there is no food around, the amount of time it takes for the predators to decrease their population of a factor $e$ is 3 time units.\n",
    "\n",
    "Compute then that $\\gamma$ for which the time constant of the extintion rate of the predators (i.e., the dynamics of the predators under no-preys assumptions) is 3 time units.\n",
    "\n",
    "* If you are solving this point via pen and paper, then write the procedure you followed to compute the solution in the cell below, using it as a ```markdown``` cell, and the solution itself.\n",
    "* If you are solving this point via symbolic computing, then use the cell below as a ```code``` cell to write the code that computes the solution."
   ]
  },
  {
   "cell_type": "code",
   "execution_count": null,
   "id": "b640281f",
   "metadata": {},
   "outputs": [],
   "source": []
  },
  {
   "cell_type": "markdown",
   "id": "71814479",
   "metadata": {},
   "source": [
    "### Question 2\n",
    "\n",
    "You also noted that when there is nobody eating them around, the amount of time required for the preys to increase their population of a factor $e$  is 5 time units.\n",
    "\n",
    "Compute then that $\\alpha$ for which the time constant of the Malthusian growth of the preys (i.e., the dynamics of the preys under no-predators assumptions) is 5 time units.\n",
    "\n",
    "* If you are solving this point via pen and paper, then write the procedure you followed to compute the solution in the cell below, using it as a ```markdown``` cell, and the solution itself.\n",
    "* If you are solving this point via symbolic computing, then use the cell below as a ```code``` cell to write the code that computes the solution."
   ]
  },
  {
   "cell_type": "code",
   "execution_count": null,
   "id": "50793b90",
   "metadata": {},
   "outputs": [],
   "source": []
  },
  {
   "cell_type": "markdown",
   "id": "45daf9bc",
   "metadata": {},
   "source": [
    "### Question 3\n",
    "\n",
    "You also noted that when nobody poaches these animals, the system seems to be in equilibrium if there are 10 units of preys and 2 units of predators.\n",
    "\n",
    "Compute then that $\\beta$ and $\\delta$ so that the system is in equilibrium if there are 10 units of preys and 2 units of predators, and both the $u$'s are set to 0. Obviously let $\\alpha$ and $\\gamma$ be that ones you computed above.\n",
    "\n",
    "* If you are solving this point via pen and paper, then write the procedure you followed to compute the solution in the cell below, using it as a ```markdown``` cell, and the solution itself.\n",
    "* If you are solving this point via symbolic computing, then use the cell below as a ```code``` cell to write the code that computes the solution."
   ]
  },
  {
   "cell_type": "code",
   "execution_count": null,
   "id": "d554b6ee",
   "metadata": {},
   "outputs": [],
   "source": []
  },
  {
   "cell_type": "markdown",
   "id": "80845d82",
   "metadata": {},
   "source": [
    "### Question 4\n",
    "\n",
    "Somebody in the government says that we need to control these two populations, and there is thus the need to decides how much human intervention there should be. The government is thinking at two strategies, i.e.:\n",
    "* **strategy a**: set $u_{prey} = 1$ and $u_{pred} = 0.2$;\n",
    "* **strategy b**: set $u_{prey} = 1$ and $u_{pred} = 0$.\n",
    "\n",
    "To help the government, compute and compare the two equilibria that would result by using these two different intervention levels.\n",
    "\n",
    "* If you are solving this point via pen and paper, then write the procedure you followed to compute the solution in the cell below, using it as a ```markdown``` cell, and the solution itself.\n",
    "* If you are solving this point via symbolic computing, then use the cell below as a ```code``` cell to write the code that computes the solution."
   ]
  },
  {
   "cell_type": "code",
   "execution_count": null,
   "id": "66db3029",
   "metadata": {},
   "outputs": [],
   "source": []
  },
  {
   "cell_type": "markdown",
   "id": "2465ea65",
   "metadata": {},
   "source": [
    "### Question 5\n",
    "\n",
    "You are worried that computing the equilibria is not enough to take a good decision, and you want to help the government by coding a simulator that can be used to draw predictions of how the population levels will change in time, depending on the interventions that humans may want to take in the future (and thus the $u$ signals in time). \n",
    "\n",
    "Code thus an Euler solver that computes the trajectories of the model, and plot the corresponding results, starting from generic initial conditions, and considering generic actuation signals $u$. Add as many cells you like to organize your code.\n",
    "\n",
    "Tip: use as a starting point the code you find in https://github.com/damianovar/TTK4225-2023."
   ]
  },
  {
   "cell_type": "code",
   "execution_count": null,
   "id": "8fe34480",
   "metadata": {},
   "outputs": [],
   "source": []
  },
  {
   "cell_type": "markdown",
   "id": "6218abdd",
   "metadata": {},
   "source": [
    "### Question 6\n",
    "\n",
    "Argh, covid is hitting the predators too! You need to modify your simulator if you want to be able to compute meaningful forecasts. For this, create another version of the ODEs defining your simulator (i.e., assuming you are using names similar to the ones in the github repository above, create another version of the ```myModel``` function) so that between time $T_{1} = 10$ and $T_{2} = 11$ the pandemic event affects the predators so that, during that period, their deaths rate $\\gamma$ is twice its original value.\n",
    "\n",
    "Tip: always give meaningful names to the variables and functions you code."
   ]
  },
  {
   "cell_type": "code",
   "execution_count": null,
   "id": "7eb06b1a",
   "metadata": {},
   "outputs": [],
   "source": []
  },
  {
   "cell_type": "markdown",
   "id": "9ee11dab",
   "metadata": {},
   "source": [
    "### Question 7\n",
    "\n",
    "To see if this pandemic actually affects the populations a lot or not, you need to compare the two versions of the ODEs, i.e., compute and plot opportunely some trajectories using the original dynamics and some trajectories using the \"pandemic-affected\" ones.\n",
    "\n",
    "To aid interpretability, you decide to do five different simulations starting from the 5 different initial conditions, each defined by $y(0) = (1+0.1k)y_{eq,u}$ with $k = 1,...,5$., always using **strategy a** as an intervention.\n",
    "\n",
    "Create in the cell below (or in as many cells you need) some code that produces 5 plots, one for each initial condition, and each divided in 2 parts:\n",
    "* on the left, the two trajectories (original vs. pandemic) in the phase space,\n",
    "* on the right, the two trajectories (original vs. pandemic) as time signals.\n",
    "\n",
    "Tip: do so that the axes across the 5 figures of the same type are identical (e.g., the ```x_axis_max``` of the various phase portraits are the same)."
   ]
  },
  {
   "cell_type": "code",
   "execution_count": null,
   "id": "aad43c2f",
   "metadata": {},
   "outputs": [],
   "source": []
  },
  {
   "cell_type": "markdown",
   "id": "cb5a6e13",
   "metadata": {},
   "source": [
    "### Question 8\n",
    "\n",
    "How much do you think the pandemic affects this ecological system? Write your thoughts in the cell below, using it as a ```markdown``` cell."
   ]
  },
  {
   "cell_type": "markdown",
   "id": "b6add55b",
   "metadata": {},
   "source": []
  }
 ],
 "metadata": {
  "kernelspec": {
   "display_name": "Python 3 (ipykernel)",
   "language": "python",
   "name": "python3"
  },
  "language_info": {
   "codemirror_mode": {
    "name": "ipython",
    "version": 3
   },
   "file_extension": ".py",
   "mimetype": "text/x-python",
   "name": "python",
   "nbconvert_exporter": "python",
   "pygments_lexer": "ipython3",
   "version": "3.11.5"
  }
 },
 "nbformat": 4,
 "nbformat_minor": 5
}

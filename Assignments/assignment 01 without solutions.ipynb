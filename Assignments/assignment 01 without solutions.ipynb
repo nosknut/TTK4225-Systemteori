{
 "cells": [
  {
   "cell_type": "markdown",
   "id": "5058f580-3a35-41ed-94c1-17576e75c802",
   "metadata": {
    "tags": []
   },
   "source": [
    "# TTK4225 Assignment 1\n",
    "\n",
    "Instructions:\n",
    "\n",
    "- submit not the file as a .ipynb, but rather as a .pdf (thus export the notebook accordingly before submitting it).\n",
    "\n",
    "- if you have been doing this assignment together with somebody, then add a markdown cell after this one listing with whom you did this assignment.\n"
   ]
  },
  {
   "cell_type": "markdown",
   "id": "b6098d37-5ac9-4c02-bc03-de336865a3cc",
   "metadata": {},
   "source": [
    "### 1-1 Compute the equilibria of the mass-spring system, Lotka Volterra system, and the Van der Pol oscillator as functions of the parameters of the models;\n",
    "[Van der Pol oscillator](https://en.wikipedia.org/wiki/Van_der_Pol_oscillator) \\\n",
    "[Mass-spring-damper](https://en.wikipedia.org/wiki/Mass-spring-damper_model) \\\n",
    "[Lotka Volterra](https://en.wikipedia.org/wiki/Lotka%E2%80%93Volterra_equations)"
   ]
  },
  {
   "cell_type": "markdown",
   "id": "7aad4393-ad93-4cf4-a06b-cd940d2074f6",
   "metadata": {},
   "source": [
    "Answer below :)"
   ]
  },
  {
   "cell_type": "code",
   "execution_count": null,
   "id": "45f33563-02b3-4c7c-8e60-0eac48f6a085",
   "metadata": {},
   "outputs": [],
   "source": []
  },
  {
   "cell_type": "markdown",
   "id": "7ddeadac-614e-464c-b197-c0f0c3c99dfa",
   "metadata": {},
   "source": [
    "### 1-2 Say which of these equilibria are simply stable, asymptotically stable, or unstable (note: simply stable is a synonym for marginally stable)"
   ]
  },
  {
   "cell_type": "markdown",
   "id": "37805722-6b60-4b56-91ae-b854ec76c7d6",
   "metadata": {},
   "source": [
    "Answer below :)"
   ]
  },
  {
   "cell_type": "code",
   "execution_count": null,
   "id": "94dcd97a-1702-4be8-9214-03937eab7678",
   "metadata": {},
   "outputs": [],
   "source": []
  },
  {
   "cell_type": "markdown",
   "id": "696b9481-6ba2-4db4-a9d0-ce4967e95263",
   "metadata": {},
   "source": [
    "### 1-3 as for the asymptotically stable ones, describe in an intuitive way their basin of attraction."
   ]
  },
  {
   "cell_type": "markdown",
   "id": "58b250b2-2b9e-4872-ae45-845418e5b7ce",
   "metadata": {},
   "source": [
    "Answer below :)"
   ]
  },
  {
   "cell_type": "code",
   "execution_count": null,
   "id": "1606537d-d804-4f47-a0b1-00e452d42bfe",
   "metadata": {},
   "outputs": [],
   "source": []
  },
  {
   "cell_type": "markdown",
   "id": "752dcd10-8e27-42fc-afbe-3d1ce0cfbc5b",
   "metadata": {},
   "source": [
    "### 2-1 Describe a physical system that has both an asymptotically stable equilibrium and an unstable one. Say why the equilibria are such that (hint: try to identify some sort of ”energy” concept that can be used to characterize the system, e.g., kinetic or potential);"
   ]
  },
  {
   "cell_type": "markdown",
   "id": "e91b0de7-de0c-4c87-a74f-32537ad446c2",
   "metadata": {},
   "source": [
    "Answer below :)"
   ]
  },
  {
   "cell_type": "code",
   "execution_count": null,
   "id": "f2c5d6fe-3f4c-4f39-b10d-71a9a7ad0b7c",
   "metadata": {},
   "outputs": [],
   "source": []
  },
  {
   "cell_type": "markdown",
   "id": "199c4f13-31ac-470e-95d6-b1a53b65804f",
   "metadata": {},
   "source": [
    "### 2-2 Say how one should modify the system so to make the asymptotically stable equilibrium only simply stable (note: simply stable is a synonym for marginally stable)."
   ]
  },
  {
   "cell_type": "markdown",
   "id": "bdc55a88-f4f5-4864-b198-e7a672a98c70",
   "metadata": {},
   "source": [
    "Answer here :)"
   ]
  },
  {
   "cell_type": "code",
   "execution_count": null,
   "id": "00d8d0e5-f475-41ce-8c39-29fa7da26290",
   "metadata": {},
   "outputs": [],
   "source": []
  },
  {
   "cell_type": "markdown",
   "id": "e764168e-bf79-481d-bfa4-44d6e90f4a8e",
   "metadata": {},
   "source": [
    "### 3-1 Describe how model predictive control works from intuitive perspectives;"
   ]
  },
  {
   "cell_type": "markdown",
   "id": "7f6558f3-6ec4-42e2-b925-f55e1ba0bbc9",
   "metadata": {},
   "source": [
    "Answer below :)"
   ]
  },
  {
   "cell_type": "code",
   "execution_count": null,
   "id": "e080da32-62df-4004-9bd3-b2f6e6f50a04",
   "metadata": {},
   "outputs": [],
   "source": []
  },
  {
   "cell_type": "markdown",
   "id": "34ebc175-293d-461c-a186-47aef03f3535",
   "metadata": {},
   "source": [
    "### 3-2 Describe the goal of this course."
   ]
  },
  {
   "cell_type": "markdown",
   "id": "c8db1634-4376-437b-b81d-a917e926983d",
   "metadata": {},
   "source": [
    "Answer below :)"
   ]
  },
  {
   "cell_type": "code",
   "execution_count": null,
   "id": "70cfd424-164b-4f59-bc55-c48e720f6aa2",
   "metadata": {},
   "outputs": [],
   "source": []
  }
 ],
 "metadata": {
  "kernelspec": {
   "display_name": "Python 3 (ipykernel)",
   "language": "python",
   "name": "python3"
  },
  "language_info": {
   "codemirror_mode": {
    "name": "ipython",
    "version": 3
   },
   "file_extension": ".py",
   "mimetype": "text/x-python",
   "name": "python",
   "nbconvert_exporter": "python",
   "pygments_lexer": "ipython3",
   "version": "3.9.12"
  }
 },
 "nbformat": 4,
 "nbformat_minor": 5
}
